{
 "cells": [
  {
   "cell_type": "code",
   "execution_count": null,
   "metadata": {},
   "outputs": [],
   "source": []
  },
  {
   "cell_type": "code",
   "execution_count": 1,
   "metadata": {},
   "outputs": [],
   "source": [
    "import numpy as np\n",
    "from sklearn import preprocessing\n",
    "import python_speech_features as mfcc"
   ]
  },
  {
   "cell_type": "code",
   "execution_count": 6,
   "metadata": {},
   "outputs": [],
   "source": [
    "#feature extraction mfcc & delta mfcc\n",
    "def calculate_delta(array):\n",
    "    \"\"\"Calculate and returns the delta of given feature vector matrix\"\"\"\n",
    "\n",
    "    rows,cols = array.shape\n",
    "    deltas = np.zeros((rows,20))\n",
    "    N = 2\n",
    "    for i in range(rows):\n",
    "        index = []\n",
    "        j = 1\n",
    "        while j <= N:\n",
    "            if i-j < 0:\n",
    "              first =0\n",
    "            else:\n",
    "              first = i-j\n",
    "            if i+j > rows-1:\n",
    "                second = rows-1\n",
    "            else:\n",
    "                second = i+j \n",
    "            index.append((second,first))\n",
    "            j+=1\n",
    "        deltas[i] = ( array[index[0][0]]-array[index[0][1]] + (2 * (array[index[1][0]]-array[index[1][1]])) ) / 10\n",
    "        \n",
    "        return deltas"
   ]
  },
  {
   "cell_type": "code",
   "execution_count": 7,
   "metadata": {},
   "outputs": [],
   "source": [
    "def extract_features(audio,rate):\n",
    "    \"\"\"extract 20 dim mfcc features from an audio, performs CMS and combines \n",
    "    delta to make it 40 dim feature vector\"\"\"    \n",
    "    \n",
    "    mfcc_feature = mfcc.mfcc(audio,rate, 0.025, 0.01,20,nfft = 1200, appendEnergy = True)    \n",
    "    mfcc_feature = preprocessing.scale(mfcc_feature)\n",
    "    delta = calculate_delta(mfcc_feature)\n",
    "    combined = np.hstack((mfcc_feature,delta)) \n",
    "    return combined"
   ]
  },
  {
   "cell_type": "code",
   "execution_count": 8,
   "metadata": {},
   "outputs": [],
   "source": [
    "#training the model"
   ]
  },
  {
   "cell_type": "code",
   "execution_count": 9,
   "metadata": {},
   "outputs": [],
   "source": [
    "import os.path"
   ]
  },
  {
   "cell_type": "code",
   "execution_count": 10,
   "metadata": {},
   "outputs": [],
   "source": [
    "import _pickle as cPickle"
   ]
  },
  {
   "cell_type": "code",
   "execution_count": 11,
   "metadata": {},
   "outputs": [],
   "source": [
    "from scipy.io.wavfile import read\n",
    "from sklearn.mixture import GaussianMixture"
   ]
  },
  {
   "cell_type": "code",
   "execution_count": 14,
   "metadata": {},
   "outputs": [],
   "source": [
    "import warnings\n",
    "warnings.filterwarnings(\"ignore\")\n",
    "source   = \"trainingData/\"   "
   ]
  },
  {
   "cell_type": "code",
   "execution_count": 13,
   "metadata": {},
   "outputs": [],
   "source": []
  },
  {
   "cell_type": "code",
   "execution_count": 15,
   "metadata": {},
   "outputs": [
    {
     "name": "stdout",
     "output_type": "stream",
     "text": [
      "darren-004\\en-0920.wav\n",
      "darren-004\\en-0921.wav\n",
      "darren-004\\en-0922.wav\n",
      " modeling completed for speaker={0} with data point ={1}  darren.gmm (1696, 40)\n",
      "david-003\\en-0387.wav\n",
      "david-003\\en-0388.wav\n",
      "david-003\\en-0389.wav\n",
      " modeling completed for speaker={0} with data point ={1}  david.gmm (1809, 40)\n",
      "frank-005\\en-0632.wav\n",
      "frank-005\\en-0633.wav\n",
      "frank-005\\en-0634.wav\n",
      " modeling completed for speaker={0} with data point ={1}  frank.gmm (1911, 40)\n",
      "John-001\\en-1167.wav\n",
      "John-001\\en-1168.wav\n",
      "John-001\\en-1169.wav\n",
      " modeling completed for speaker={0} with data point ={1}  John.gmm (1496, 40)\n",
      "rocky-002\\en-0717.wav\n",
      "rocky-002\\en-0718.wav\n",
      "rocky-002\\en-0719.wav\n",
      " modeling completed for speaker={0} with data point ={1}  rocky.gmm (1396, 40)\n"
     ]
    }
   ],
   "source": [
    " \n",
    "#path to training data\n",
    "source   = \"trainingData\\\\\"  \n",
    " \n",
    "#path where training speakers will be saved\n",
    "dest = \"Speakers_models\\\\\"\n",
    "train_file = \"trainingDataPath.txt\"\n",
    "file_paths = open(train_file,'r')\n",
    " \n",
    "count = 1\n",
    "# Extracting features for each speaker (5 files per speakers)\n",
    "features = np.asarray(())\n",
    "for path in file_paths:\n",
    "    path = path.strip()\n",
    "    print (path)\n",
    " \n",
    "    # read the audio\n",
    "    sr,audio = read(source + path)\n",
    " \n",
    "    # extract 40 dimensional MFCC & delta MFCC features\n",
    "    vector   = extract_features(audio,sr)\n",
    " \n",
    "    if features.size == 0:\n",
    "        features = vector\n",
    "    else:\n",
    "        features = np.vstack((features, vector))\n",
    "    # when features of 5 files of speaker are concatenated, then do model training\n",
    "    if count == 3:\n",
    "        gmm = GaussianMixture(n_components = 16, max_iter = 200, covariance_type='diag',n_init = 3)\n",
    "        gmm.fit(features)\n",
    " \n",
    "        # dumping the trained gaussian model\n",
    "        picklefile = path.split(\"-\")[0]+\".gmm\"\n",
    "        cPickle.dump(gmm,open(dest + picklefile,'wb'))\n",
    "        print (' modeling completed for speaker={0} with data point ={1} ', picklefile,features.shape)\n",
    "        features = np.asarray(())\n",
    "        count = 0\n",
    "    count = count + 1"
   ]
  },
  {
   "cell_type": "code",
   "execution_count": null,
   "metadata": {},
   "outputs": [],
   "source": []
  },
  {
   "cell_type": "code",
   "execution_count": 18,
   "metadata": {},
   "outputs": [],
   "source": [
    "#testing the model"
   ]
  },
  {
   "cell_type": "code",
   "execution_count": 16,
   "metadata": {},
   "outputs": [
    {
     "name": "stdout",
     "output_type": "stream",
     "text": [
      "darren_01.wav\n",
      "\tdetected as -  darren\n",
      "david_02.wav\n",
      "\tdetected as -  david\n",
      "frank_03.wav\n",
      "\tdetected as -  frank\n",
      "John_04.wav\n",
      "\tdetected as -  frank\n",
      "rocky_05.wav\n",
      "\tdetected as -  rocky\n"
     ]
    }
   ],
   "source": [
    "import os\n",
    "import time\n",
    "#path to testing data\n",
    "source   = \"SampleData\\\\\"\n",
    "modelpath = \"Speakers_models\\\\\"\n",
    "test_file = \"testSamplePath.txt\"\n",
    "file_paths = open(test_file,'r')\n",
    " \n",
    "gmm_files = [os.path.join(modelpath,fname) for fname in\n",
    "              os.listdir(modelpath) if fname.endswith('.gmm')]\n",
    " \n",
    "#Load the Gaussian gender Models\n",
    "models    = [cPickle.load(open(fname,'rb')) for fname in gmm_files]\n",
    "speakers   = [fname.split(\"\\\\\")[-1].split(\".gmm\")[0] for fname\n",
    "              in gmm_files]\n",
    " \n",
    "# Read the test directory and get the list of test audio files\n",
    "for path in file_paths:   \n",
    "    path = path.strip()\n",
    "    print (path)\n",
    "    sr,audio = read(source + path)\n",
    "    vector   = extract_features(audio,sr)\n",
    " \n",
    "    log_likelihood = np.zeros(len(models)) \n",
    " \n",
    "    for i in range(len(models)):\n",
    "        gmm    = models[i]  #checking with each model one by one\n",
    "        scores = np.array(gmm.score(vector))\n",
    "        log_likelihood[i] = scores.sum()\n",
    " \n",
    "    winner = np.argmax(log_likelihood)\n",
    "    print (\"\\tdetected as - \", speakers[winner])\n",
    "    time.sleep(1.0)"
   ]
  },
  {
   "cell_type": "code",
   "execution_count": null,
   "metadata": {},
   "outputs": [],
   "source": []
  }
 ],
 "metadata": {
  "kernelspec": {
   "display_name": "Python 3",
   "language": "python",
   "name": "python3"
  },
  "language_info": {
   "codemirror_mode": {
    "name": "ipython",
    "version": 3
   },
   "file_extension": ".py",
   "mimetype": "text/x-python",
   "name": "python",
   "nbconvert_exporter": "python",
   "pygments_lexer": "ipython3",
   "version": "3.7.3"
  }
 },
 "nbformat": 4,
 "nbformat_minor": 2
}
